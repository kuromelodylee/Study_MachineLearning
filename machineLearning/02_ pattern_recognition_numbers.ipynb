{
  "cells": [
    {
      "cell_type": "markdown",
      "metadata": {},
      "source": [
        "본 코드는 방송대학교 이관용교수님의 강의를 참고하여 파이썬으로 작성하였습니다."
      ]
    },
    {
      "cell_type": "markdown",
      "metadata": {
        "id": "xnM_nQrWP3ny"
      },
      "source": [
        "# 1. Mount google drive to colab"
      ]
    },
    {
      "cell_type": "code",
      "execution_count": null,
      "metadata": {
        "colab": {
          "base_uri": "https://localhost:8080/"
        },
        "id": "fhwOjghM9W-X",
        "outputId": "9116a7ed-245a-4307-d314-a9a52e7aa1df"
      },
<<<<<<< HEAD
      "outputs": [],
=======
      "outputs": [
        {
          "ename": "ModuleNotFoundError",
          "evalue": "No module named 'google'",
          "output_type": "error",
          
        }
      ],
>>>>>>> cc89d1103cee7403733dbd87045782b0ab80bb7c
      "source": [
        "from google.colab import drive\n",
        "drive.mount('/content/gdrive', force_remount=True)\n",
        "import os\n",
<<<<<<< HEAD
        "os.chdir(r\"/content/gdrive/MyDrive/Colab Notebooks/\")\n",
=======
        "os.chdir(r\"/content/gdrive/MyDrive/Colab Notebooks/")\n",
>>>>>>> cc89d1103cee7403733dbd87045782b0ab80bb7c
        "!pwd\n",
        "!ls"
      ]
    },
    {
      "cell_type": "markdown",
      "metadata": {
        "id": "Pitb6EYcPwCD"
      },
      "source": [
        "#2. Unzip the datas"
      ]
    },
    {
      "cell_type": "code",
      "execution_count": null,
      "metadata": {
        "colab": {
          "base_uri": "https://localhost:8080/"
        },
        "id": "haUZynS4C-xC",
        "outputId": "42a7c4a4-7e30-464a-c95d-7cf7eaae4877"
      },
      "outputs": [
        {
          "name": "stdout",
          "output_type": "stream",
          "text": [
            "digit0_1.bmp  digit2_1.bmp  digit4_1.bmp  digit6_1.bmp\tdigit8_1.bmp\n",
            "digit0_2.bmp  digit2_2.bmp  digit4_2.bmp  digit6_2.bmp\tdigit8_2.bmp\n",
            "digit0_3.bmp  digit2_3.bmp  digit4_3.bmp  digit6_3.bmp\tdigit8_3.bmp\n",
            "digit0_4.bmp  digit2_4.bmp  digit4_4.bmp  digit6_4.bmp\tdigit8_4.bmp\n",
            "digit0_5.bmp  digit2_5.bmp  digit4_5.bmp  digit6_5.bmp\tdigit8_5.bmp\n",
            "digit0_6.bmp  digit2_6.bmp  digit4_6.bmp  digit6_6.bmp\tdigit8_6.bmp\n",
            "digit0_7.bmp  digit2_7.bmp  digit4_7.bmp  digit6_7.bmp\tdigit8_7.bmp\n",
            "digit1_1.bmp  digit3_1.bmp  digit5_1.bmp  digit7_1.bmp\tdigit9_1.bmp\n",
            "digit1_2.bmp  digit3_2.bmp  digit5_2.bmp  digit7_2.bmp\tdigit9_2.bmp\n",
            "digit1_3.bmp  digit3_3.bmp  digit5_3.bmp  digit7_3.bmp\tdigit9_3.bmp\n",
            "digit1_4.bmp  digit3_4.bmp  digit5_4.bmp  digit7_4.bmp\tdigit9_4.bmp\n",
            "digit1_5.bmp  digit3_5.bmp  digit5_5.bmp  digit7_5.bmp\tdigit9_5.bmp\n",
            "digit1_6.bmp  digit3_6.bmp  digit5_6.bmp  digit7_6.bmp\tdigit9_6.bmp\n",
            "digit1_7.bmp  digit3_7.bmp  digit5_7.bmp  digit7_7.bmp\tdigit9_7.bmp\n"
          ]
        }
      ],
      "source": [
        "# %cd datas\n",
        "# !pwd\n",
        "# !mv ./digitimages_binary.zip ..\n",
        "# %cd ..\n",
        "# !unzip ./digitimages_binary.zip -d ./datas\n",
        "!ls ./datas"
      ]
    },
    {
      "cell_type": "markdown",
      "metadata": {
        "id": "xdeqpmBOPWCQ"
      },
      "source": [
        "Image practice\n",
        " - use CV2 to read or call img\n",
        " - scaling with binary format using with threshold method in cv2\n",
        " - practice reshape single image to single row multi columns (1, -1)"
      ]
    },
    {
      "cell_type": "code",
      "execution_count": null,
      "metadata": {
        "colab": {
          "base_uri": "https://localhost:8080/"
        },
        "id": "3vWB28v7JYnR",
        "outputId": "d789cccc-c8ce-452d-a086-2866c2b60277"
      },
      "outputs": [
        {
          "data": {
            "text/plain": [
              "((20, 16), 320, numpy.ndarray)"
            ]
          },
          "execution_count": 3,
          "metadata": {},
          "output_type": "execute_result"
        }
      ],
      "source": [
        "import cv2 as cv\n",
        "import matplotlib.pyplot as plt\n",
        "img = cv.imread('./datas/digit0_1.bmp', cv.IMREAD_GRAYSCALE)\n",
        "ret, cvrt_img = cv.threshold(img, 100, 255, cv.THRESH_BINARY)\n",
        "ximg = cvrt_img.reshape(1,-1)/255\n",
        "\n",
        "# flat_size = ximg.size\n",
        "# arr = np.empty([0,flat_size], int)\n",
        "\n",
        "cvrt_img.shape, cvrt_img.size, type(cvrt_img)\n",
        "\n",
        "# arr = np.append(arr, ximg, axis=0)\n",
        "# arr, arr.shape \n"
      ]
    },
    {
      "cell_type": "markdown",
      "metadata": {
        "id": "2Ryr6ZtaQi-1"
      },
      "source": [
        "image practice 2\n",
        " - using PIL package\n",
        " - difference between CV2 and PIL is result shows bull type factors with PIL and int type on CV2."
      ]
    },
    {
      "cell_type": "code",
      "execution_count": null,
      "metadata": {
        "id": "0I5N6S_jRaVT"
      },
      "outputs": [],
      "source": [
        "# from PIL import Image \n",
        "# image_binary = Image.open(\"./datas/digit0_1.bmp\")\n",
        "# image_binary = np.array(image_binary)\n",
        "# digit_flat = image_binary.reshape(1,-1)\n",
        "# digit_flat.size, digit_flat.shape, digit_flat\n",
        "# flat_size = digit_flat.size\n",
        "# arr = np.empty([0,flat_size], int)\n",
        "# print(\"Empty array:\")\n",
        "# arr, arr.shape, type(arr)\n",
        "# arr = np.append(arr, digit_flat, axis=0)\n",
        "# arr, arr.shape"
      ]
    },
    {
      "cell_type": "markdown",
      "metadata": {
        "id": "Kisf-CvrRSy_"
      },
      "source": [
        "print with image example"
      ]
    },
    {
      "cell_type": "code",
      "execution_count": null,
      "metadata": {
        "colab": {
          "base_uri": "https://localhost:8080/",
          "height": 282
        },
        "id": "7fDEJGoHeJfl",
        "outputId": "317eadc9-e043-400e-9bb6-123172bd34f3"
      },
      "outputs": [
        {
          "data": {
            "text/plain": [
              "<matplotlib.image.AxesImage at 0x7f99efb4cc90>"
            ]
          },
          "execution_count": 5,
          "metadata": {},
          "output_type": "execute_result"
        },
        {
          "data": {
            "image/png": "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",
            "text/plain": [
              "<Figure size 432x288 with 1 Axes>"
            ]
          },
          "metadata": {
            "needs_background": "light"
          },
          "output_type": "display_data"
        }
      ],
      "source": [
        "plt.imshow(img, cmap='gray')"
      ]
    },
    {
      "cell_type": "markdown",
      "metadata": {
        "id": "VKMIdn_BRfqk"
      },
      "source": [
        "# 3. announce recurring factors with 'range' function"
      ]
    },
    {
      "cell_type": "code",
      "execution_count": null,
      "metadata": {
        "colab": {
          "base_uri": "https://localhost:8080/"
        },
        "id": "8nNMdYk4eLRK",
        "outputId": "f62253e9-b033-489d-b7ce-c9fa4bc94217"
      },
      "outputs": [
        {
          "data": {
            "text/plain": [
              "(range(0, 10), range(1, 8), range(3, 8), array([1, 2]))"
            ]
          },
          "execution_count": 6,
          "metadata": {},
          "output_type": "execute_result"
        }
      ],
      "source": [
        "import numpy as np\n",
        "numbers_index = range(10)\n",
        "Totaldata_index = range(1,8)\n",
        "Traindata_index = range(3,8)\n",
        "Testdata_index = np.setdiff1d(Totaldata_index, Traindata_index)\n",
        "\n",
        "numbers_index, Totaldata_index, Traindata_index, Testdata_index"
      ]
    },
    {
      "cell_type": "markdown",
      "metadata": {
        "id": "0dzU53TwRt6J"
      },
      "source": [
        "# 4. Create the data set\n",
        "  - Create the empty numpy array in order to store the numpy data in accordance for Xtrain\n",
        "  - create the empty list format for test label data"
      ]
    },
    {
      "cell_type": "code",
      "execution_count": null,
      "metadata": {
        "colab": {
          "base_uri": "https://localhost:8080/"
        },
        "id": "WeU5_7ABekSj",
        "outputId": "fa0c0b47-bf62-4ccc-c63f-0619858f3825"
      },
      "outputs": [
        {
          "data": {
            "text/plain": [
              "numpy.ndarray"
            ]
          },
          "execution_count": 7,
          "metadata": {},
          "output_type": "execute_result"
        }
      ],
      "source": [
        "import numpy as np\n",
        "Xtrain=np.empty([0,ximg.size])\n",
        "Ttrain=[]\n",
        "Xtest=np.empty([0,ximg.size])\n",
        "Ttest=[]\n",
        "\n",
        "type(Xtrain)"
      ]
    },
    {
      "cell_type": "code",
      "execution_count": null,
      "metadata": {
        "colab": {
          "base_uri": "https://localhost:8080/"
        },
        "id": "nAekbwT97pzv",
        "outputId": "d8439189-d181-409c-b3bb-758783a5ee89"
      },
      "outputs": [
        {
          "data": {
            "text/plain": [
              "((320, 50), (50,), (320, 20), (20,))"
            ]
          },
          "execution_count": 8,
          "metadata": {},
          "output_type": "execute_result"
        }
      ],
      "source": [
        "from re import I\n",
        "Xtrain=np.empty([ximg.size,0]) #꼭 np엠티로 해줘야지만 아래 append할때 작동함 (일종에 크기가 같은 빈깡통을 만들어야함)\n",
        "Ttrain=[]\n",
        "Xtest=np.empty([ximg.size,0])\n",
        "Ttest=[]\n",
        "\n",
        "for i in numbers_index:\n",
        "  for j in Traindata_index:\n",
        "    fn = 'digit{0}_{1}.bmp'.format(i, j)\n",
        "    xi = cv.imread('./datas/'+fn, -1)\n",
        "    x = xi.reshape(-1,1)/255\n",
        "    Xtrain = np.hstack((Xtrain, x)) # Xtrain = np.append(Xtrain, x, axis=0) 작동하지 않음\n",
        "    Ttrain = np.append(Ttrain, i)\n",
        "  for j in Testdata_index:\n",
        "    fn = 'digit{0}_{1}.bmp'.format(i, j)\n",
        "    xi = cv.imread('./datas/'+fn, -1)\n",
        "    x = xi.reshape(-1,1)/255\n",
        "    Xtest = np.hstack((Xtest, x))\n",
        "    Ttest = np.append(Ttest, i)\n",
        "\n",
        "Xtrain.shape, Ttrain.shape, Xtest.shape, Ttest.shape\n",
        "\n"
      ]
    },
    {
      "cell_type": "markdown",
      "metadata": {
        "id": "t9IRqrw_e0ma"
      },
      "source": [
        "# 4. Calculating mean vector for each number set\n",
        "- using numpy mean method then reshape result to vertical type as original mean data composed single dimension data e.g. (320, ) rather than? (320,1)"
      ]
    },
    {
      "cell_type": "markdown",
      "metadata": {
        "id": "aYcqgZYchA2E"
      },
      "source": [
        "practice "
      ]
    },
    {
      "cell_type": "code",
      "execution_count": null,
      "metadata": {
        "colab": {
          "base_uri": "https://localhost:8080/"
        },
        "id": "FTq2-R0Rg_3K",
        "outputId": "fd9c292c-0c99-4bcb-c924-fb63ff247833"
      },
      "outputs": [
        {
          "data": {
            "text/plain": [
              "((320,), int, int)"
            ]
          },
          "execution_count": 11,
          "metadata": {},
          "output_type": "execute_result"
        }
      ],
      "source": [
        "x = np.mean(Xtrain, axis=1)\n",
        "y = np.mean(Ttest)\n",
        "\n",
        "x.shape, type(int(np.array(numbers_index).size)), type(np.array(numbers_index).size)"
      ]
    },
    {
      "cell_type": "markdown",
      "metadata": {
        "id": "cuMp1HRazeMm"
      },
      "source": [
        "practice"
      ]
    },
    {
      "cell_type": "code",
      "execution_count": null,
      "metadata": {
        "colab": {
          "base_uri": "https://localhost:8080/",
          "height": 127
        },
        "id": "t0OIOPbquH8v",
        "outputId": "e412494b-43d4-4e75-b20d-4516a253988a"
      },
      "outputs": [
        {
          "data": {
            "text/plain": [
              "<matplotlib.image.AxesImage at 0x7f99e01f45d0>"
            ]
          },
          "execution_count": 12,
          "metadata": {},
          "output_type": "execute_result"
        },
        {
          "data": {
            "image/png": "iVBORw0KGgoAAAANSUhEUgAAAFEAAABdCAYAAADdTYpNAAAABHNCSVQICAgIfAhkiAAAAAlwSFlzAAALEgAACxIB0t1+/AAAADh0RVh0U29mdHdhcmUAbWF0cGxvdGxpYiB2ZXJzaW9uMy4yLjIsIGh0dHA6Ly9tYXRwbG90bGliLm9yZy+WH4yJAAAFGklEQVR4nO2cwWsjVRjAf19XPLVkrC3LstpODouwCCEl6K0IurCKUE9iT9Iu9OTdBf8B/wEvPbTrafXoHhZEF0IvHjYQCipoV9tibd1aNKH1opLPQ1J81k46mXnzZid5PyhJZpL3PX7ke9+bZt4TVcWTjrG8OzAMeIkW8BIt4CVawEu0gJdogVQSReSmiHwnIo9E5LatThUNSTpPFJFLwPfADWAPeAgsquq39rpXDNJ8E18CHqnqj6r6J/AJsGCnW8XiqRSfvQr8ZLzeA17u94GpqSkNwzBFyPzY2dnh6OhIzjuXRmIsRGQFWAGYmZmh0WhkHTITarVa5Lk06fwz8Lzx+rnesf+gqquqWlPV2vT0dIpwTy5pJD4ErolIWUSeBt4B7tnpVrFInM6q+reIvAd8DlwC1lT1G2s9S0Gr1WJ7e5t2u22tzePj48hzqcZEVb0P3E/TRhZsb2+zvr7O5uamtTb39/cjz2VeWPKg3W6zubnJxsaGk3iFlhiVts1mk1arlbr9IAgIw5AgCPrOKgotMSptW60Wu7u7qdsPw5Dl5WUqlQorKyuR7yu0xKzTNggCKpUK8/PzjI+PR76vcBLNFI5KWzMNB20zCYWTaKZwVNqaaRiHZrOZqpoXTmKcFDbTMA6dTodSqZS4T4WTGAQB1WqVsbHoi61qtXphKkcNC+ZQEKcdKKDEcrnM0tJS3/ErCAJmZ2f7thM1LJhDQZx2oIASS6VS7LGuH1HDwqBDARRQYhriVPYkjJTEOJU9CSMlMavJ+UhJjCJJRTbxEklWkU28RJJVZJOhl5hVRTYZeolZVWSToZfo4r/cQy8xirQV2WRkJaatyCYXShSRNeBN4FBVX+wdmwQ+BUJgB3hbVX9P3IscSFuRTeL8eH8HuHnm2G3ggapeAx70Xj8xtFotms0m9Xo9s4pscuE3UVU3RCQ8c3gBeKX3/GOgDrxvsV+pcFGRTZKOiZdV9aD3/BfgsqX+WKFwvzurqopI5J2iZ+8KyxObFdkkqcTHInJFVQ9E5ApwGPVGVV0FVgFqtVquy7dsVmSTpBLvAe8CH/YeP7PSm4yxWZFNLqzOInIX+Ap4QUT2ROQWXXk3RGQLeK33emSJU50XI069arkvhcWvY7HA0Fz2ufiXVxRDI9H1BNtkaCS6nmCbFFrioHeI2ZxgmxRa4qB3iNmcYJsUWmIWd4glwU9xLOAlWsBLtEChx8QoXFRkk6GU6KIimwylRBcV2aRwEvO8Ro6icBLzvEaOonAS87xGjsKpxOPjY+r1eqo24qTw6e/OnU5n4PaDIKBcLg+0riXxli5JmJiY0Lm5uVRtnKZwvyUYpVKJMAwTLfCpVqssLS39b4VCrVaj0Wjks5GGycnJiZM0PE35JIyNjQ28xs9fsVjAS7SAl2gBL9ECTquziPwK/AEcOQv6L1Mp486q6rm7IzmVCCAiDVWN3jOqgHF9OlvAS7RAHhJXc4iZaVznY+Iw4tPZAk4lutrIV0TWRORQRL42jk2KyBcistV7fMZWPGcSexv5fgS8DlwHFkXkekbh7uBw2YjLb6KzjXxVdQP47czhBbrLReg9vmUrnkuJ523ke9Vh/MyWjYxkYdHulMTatMSlxFgb+WbI495yES5aNjIoLiXmvZHv6bIRsL1sRFWd/QFv0N1q/wfggwzj3AUOgL/ojr23gGfpVuUt4Etg0lY8f8VigZEsLLbxEi3gJVrAS7SAl2gBL9ECXqIFvEQL/AO5SWKmp2g4bAAAAABJRU5ErkJggg==",
            "text/plain": [
              "<Figure size 720x720 with 1 Axes>"
            ]
          },
          "metadata": {
            "needs_background": "light"
          },
          "output_type": "display_data"
        }
      ],
      "source": [
        "mX = np.empty([320,0])\n",
        "meanX = np.reshape((np.mean(Xtrain[:,5:6],axis=1)), (-1,1))\n",
        "plt.figure(figsize=(10,10))\n",
        "plt.subplot(1, np.array(numbers_index).size, 1)\n",
        "plt.imshow(np.reshape(meanX, (20,16)), cmap='gray')"
      ]
    },
    {
      "cell_type": "code",
      "execution_count": null,
      "metadata": {
        "colab": {
          "base_uri": "https://localhost:8080/"
        },
        "id": "7HO6KF29eNk3",
        "outputId": "cb8424a1-bfe2-42da-cef0-9191d1f01dd2"
      },
      "outputs": [
        {
          "data": {
            "text/plain": [
              "(320, 10)"
            ]
          },
          "execution_count": 13,
          "metadata": {},
          "output_type": "execute_result"
        }
      ],
      "source": [
        "mX = np.empty([320,0])\n",
        "\n",
        "for i in numbers_index:\n",
        "  meanX = np.reshape((np.mean(Xtrain[:,i*5:i*5+5],axis=1)), (-1,1)) # mX = np.append(mX, np.mean(Xtrain[:,i:i+5], axis=1)) 하면안됨\n",
        "  # print(x.shape)\n",
        "  mX = np.hstack((mX, meanX))\n",
        "\n",
        "mX.shape"
      ]
    },
    {
      "cell_type": "markdown",
      "metadata": {
        "id": "dLRzjA-4oe6Q"
      },
      "source": [
        "Try to print mean dataset with image"
      ]
    },
    {
      "cell_type": "code",
      "execution_count": null,
      "metadata": {
        "colab": {
          "base_uri": "https://localhost:8080/",
          "height": 86
        },
        "id": "qFxoz5R7onu_",
        "outputId": "ce35c3b3-22db-4fd2-aa4e-b82011e501c7"
      },
      "outputs": [
        {
          "data": {
            "image/png": "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",
            "text/plain": [
              "<Figure size 432x288 with 10 Axes>"
            ]
          },
          "metadata": {
            "needs_background": "light"
          },
          "output_type": "display_data"
        }
      ],
      "source": [
        "mXi = mX*255\n",
        "mXi.shape\n",
        "\n",
        "for i in numbers_index:\n",
        "  plt.subplot(1, np.array(numbers_index).size, i+1)\n",
        "  plt.imshow(np.reshape(mXi[:,i], (20,16)), cmap='gray')"
      ]
    },
    {
      "cell_type": "markdown",
      "metadata": {
        "id": "BzwlvtX900ir"
      },
      "source": [
        "# 5. determination from mean distance for each data"
      ]
    },
    {
      "cell_type": "code",
      "execution_count": null,
      "metadata": {
        "colab": {
          "base_uri": "https://localhost:8080/"
        },
        "id": "SdXn3Xbg3XLB",
        "outputId": "9ee5ad6a-ae67-4ec7-9d58-b75d0bc88784"
      },
      "outputs": [
        {
          "data": {
            "text/plain": [
              "6.222571815575936"
            ]
          },
          "execution_count": 15,
          "metadata": {},
          "output_type": "execute_result"
        }
      ],
      "source": [
        "x = np.linalg.norm(x-mX[:,1])\n",
        "x"
      ]
    },
    {
      "cell_type": "code",
      "execution_count": null,
      "metadata": {
        "colab": {
          "base_uri": "https://localhost:8080/"
        },
        "id": "79QROo6p1Hsy",
        "outputId": "d8592260-5fea-4774-a759-63d0563caec6"
      },
      "outputs": [
        {
          "name": "stdout",
          "output_type": "stream",
          "text": [
            "Train error = 1\n",
            "Test error = 3\n"
          ]
        }
      ],
      "source": [
        "train_size = Xtrain.shape[1]\n",
        "test_size = Xtest.shape[1]\n",
        "train_error = 0\n",
        "test_error = 0\n",
        "dist_x = []\n",
        "dist_y = []\n",
        "\n",
        "\n",
        "\n",
        "for i in range(train_size):\n",
        "  dist_x = [] #dist_x에 계속 데이터가 축적되므로 j한번 비교가 끝나면 비워주어야 함\n",
        "  x = Xtrain[:,i]\n",
        "  for j in numbers_index:\n",
        "    dist_x = np.append(dist_x, np.linalg.norm(x-mX[:,j]))\n",
        "  minv, minc_train = np.min(dist_x), np.argmin(dist_x)\n",
        "  if Ttrain[i] != minc_train:\n",
        "    train_error = train_error+1\n",
        "\n",
        "for i in range(test_size):\n",
        "  dist_y = []\n",
        "  x = Xtest[:,i]\n",
        "  for j in numbers_index:\n",
        "    dist_y = np.append(dist_y, np.linalg.norm(x-mX[:,j]))\n",
        "  minv, minc_test = np.min(dist_y), np.argmin(dist_y)\n",
        "  if Ttest[i] != minc_test:\n",
        "    test_error = test_error + 1\n",
        "\n",
        "print('Train error = {}'.format(train_error))\n",
        "print('Test error = {}'.format(test_error))"
      ]
    }
  ],
  "metadata": {
    "colab": {
      "collapsed_sections": [],
      "name": "02 패턴인식기 이미지데이터.ipynb",
      "provenance": []
    },
    "kernelspec": {
      "display_name": "Python 3.9.13 64-bit",
      "language": "python",
      "name": "python3"
    },
    "language_info": {
      "codemirror_mode": {
        "name": "ipython",
        "version": 3
      },
      "file_extension": ".py",
      "mimetype": "text/x-python",
      "name": "python",
      "nbconvert_exporter": "python",
      "pygments_lexer": "ipython3",
      "version": "3.9.13"
    },
    "vscode": {
      "interpreter": {
        "hash": "11938c6bc6919ae2720b4d5011047913343b08a43b18698fd82dedb0d4417594"
      }
    }
  },
  "nbformat": 4,
  "nbformat_minor": 0
}
